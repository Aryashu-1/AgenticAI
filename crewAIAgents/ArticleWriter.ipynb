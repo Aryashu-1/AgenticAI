{
 "cells": [
  {
   "cell_type": "code",
   "execution_count": null,
   "id": "7dcf11af",
   "metadata": {},
   "outputs": [],
   "source": [
    "%pip install crewai\n"
   ]
  },
  {
   "cell_type": "code",
   "execution_count": null,
   "id": "a9061cfd",
   "metadata": {},
   "outputs": [],
   "source": [
    "import warnings\n",
    "warnings.filterwarnings('ignore')"
   ]
  },
  {
   "cell_type": "code",
   "execution_count": null,
   "id": "f60628b4",
   "metadata": {},
   "outputs": [],
   "source": [
    "from crewai import Agent,Task,Crew"
   ]
  },
  {
   "cell_type": "code",
   "execution_count": null,
   "id": "30de83cf",
   "metadata": {},
   "outputs": [],
   "source": [
    "import os\n",
    "\n",
    "api_key = \"\"\n",
    "os.environ[\"MODEL_NAME\"] = \"\""
   ]
  },
  {
   "cell_type": "code",
   "execution_count": null,
   "id": "67499963",
   "metadata": {},
   "outputs": [],
   "source": [
    "planner = Agent (\n",
    "\n",
    "role=\"Content Planner\",\n",
    "\n",
    "goal=\"Plan engaging and factually accurate content on (topic}\",\n",
    "\n",
    "backstory=\"You're working on planning a blog article \"\n",
    "\n",
    "\"about the topic: {topic}.\"\n",
    "\n",
    "\"You collect information that helps the \"\n",
    "\n",
    "\"audience learn something \"\n",
    "\n",
    "\"and make informed decisions.\"\n",
    "\n",
    "\"Your work is the basis for \"\n",
    "\n",
    "\"the Content Writer to write an article on this topic.\",\n",
    "\n",
    "allow_delegation=False,\n",
    "\n",
    "verbose =True\n",
    ")"
   ]
  },
  {
   "cell_type": "code",
   "execution_count": null,
   "id": "bf83b6a2",
   "metadata": {},
   "outputs": [],
   "source": [
    "writer = Agent (\n",
    "\n",
    "role=\"Conte Writer\",\n",
    "\n",
    "goal=\"Write insightful and factually accurate \"\n",
    "\n",
    "\"opinion piece about the topic: {topic}\",\n",
    "\n",
    "backstory=\"You're working on a writing\"\n",
    "\n",
    "\"a new opinion piece about the topic: (topic). \"\n",
    "\n",
    "\"You base your writing on the work of \"\n",
    "\n",
    "\"the Content Planner, who provides an outline \"\n",
    "\n",
    "\"and relevant context about the topic. \"\n",
    "\n",
    "\"You follow the main objectives and \"\n",
    "\n",
    "\"direction of the outline, \"\n",
    "\n",
    "\"as provide by the Content Planner. \"\n",
    "\n",
    "\"You also provide objective and impartial insights \"\n",
    "\n",
    "\"and back them up with information\"\n",
    "\n",
    "\"provide by the Content Planner.\"\n",
    "\n",
    "\"You acknowledge in your opinion piece \" \"when your statements are opinions \"\n",
    "\n",
    "\"as opposed to objective statements.\",\n",
    "\n",
    "allow_delegation=False,\n",
    "\n",
    "verbose= True\n",
    "\n",
    ")"
   ]
  },
  {
   "cell_type": "code",
   "execution_count": null,
   "id": "0f6ecf36",
   "metadata": {},
   "outputs": [],
   "source": [
    "editor =  Agent(\n",
    "\n",
    "role=\"Editor\",\n",
    "\n",
    "goal =  \"Edit a given blog post to align with \"\n",
    "\n",
    "\"the writing style of the organization.\",\n",
    "\n",
    "backstory=\"You are an editor who receives a blog post \"\n",
    "\n",
    "\"from the Content Writer.\"\n",
    "\n",
    "\"Your goal is to review the blog post \"\n",
    "\n",
    "\"to ensure that it follows journalistic best practices,\"\n",
    "\n",
    "\"provides balanced viewpoints \"\n",
    "\n",
    "\"when providing opinions or assertions, \"\n",
    "\n",
    "\"and also avoids major controversial topics \"\n",
    "\n",
    "\"or opinions when possible.\",\n",
    "\n",
    "allow_delegation=False,\n",
    "\n",
    "verbose =True\n",
    ")"
   ]
  },
  {
   "cell_type": "code",
   "execution_count": null,
   "id": "e9cf2530",
   "metadata": {},
   "outputs": [],
   "source": [
    "plan =  Task(\n",
    "\n",
    "description=(\n",
    "\n",
    "\"1. Prioritize the latest trends, key players, \"\n",
    "\"and noteworthy news on {topic}.\\n\"\n",
    "\n",
    "\"2. Identify the target audience, considering \" \"their interests and pain points.\\n\"\n",
    "\n",
    "\"3. Develop a detailed content outline including \"\n",
    "\n",
    "\"an introduction, key points, and a call to action.\\n\"\n",
    "\n",
    "\"4. Include SEO keywords and relevant data or sources.\"\n",
    "\n",
    "),\n",
    "\n",
    "expected_output=\"A comprehensive content plan document \"\n",
    "\n",
    "\"with an outline, audience analysis, \"\n",
    "\n",
    "\"SEO keywords, and resources.\",\n",
    "\n",
    "agent = planner,\n",
    ")"
   ]
  },
  {
   "cell_type": "code",
   "execution_count": null,
   "id": "91fee93e",
   "metadata": {},
   "outputs": [],
   "source": [
    "write = Task(\n",
    "\n",
    "description=(\n",
    "\n",
    "\"1. Use the content plan to craft a compelling \"\n",
    "\n",
    "\"blog post on {topic}.\\n\"\n",
    "\n",
    "\"2. Incorporate SEO keywords naturally.\\n\"\n",
    "\n",
    "\"3. Sections/Subtitles are properly named \" \"in an engaging manner.\\n\"\n",
    "\n",
    "\"4. Ensure the post is structured with an \"\n",
    "\n",
    "\"engaging introduction, insightful body, \"\n",
    "\n",
    "\"and a summarizing conclusion.\\n\"\n",
    "\n",
    "\"5. Proofread for grammatical errors and \" \"alignment with the brand's voice.\\n\"\n",
    "\n",
    "),\n",
    "\n",
    "expected_output=\"A well written blog post \"\n",
    "\n",
    "\"in markdown format ready for publication, \"\n",
    "\n",
    "\"each section should have 2 or 3 paragraphs.\",\n",
    "\n",
    "agent=writer,\n",
    ")"
   ]
  },
  {
   "cell_type": "code",
   "execution_count": null,
   "id": "8463818a",
   "metadata": {},
   "outputs": [],
   "source": [
    "edit =  Task(\n",
    "\n",
    "description=(\"Proofread Proofread the given blog post for \" \n",
    "             \n",
    "            \"grammatical errors and \" \"alignment with the brand's voice.\"),\n",
    "\n",
    "expected_output=\"A well-written blog post in markdown format,\" \"ready for publication, \"\n",
    "\"each section should have 2 or 3 paragraphs.\",\n",
    "\n",
    "agent=editor\n",
    ")"
   ]
  },
  {
   "cell_type": "code",
   "execution_count": null,
   "id": "62138fbc",
   "metadata": {},
   "outputs": [],
   "source": [
    "crew = Crew(\n",
    "  agents=[planner,writer,editor],\n",
    "  tasks=[plan,write,edit],\n",
    "  verbose = True\n",
    ")"
   ]
  },
  {
   "cell_type": "code",
   "execution_count": null,
   "id": "36086861",
   "metadata": {},
   "outputs": [],
   "source": [
    "result = crew.kickoff(\n",
    "  inputs={\"topic\":\"AI\"}\n",
    ")"
   ]
  },
  {
   "cell_type": "code",
   "execution_count": 18,
   "id": "a3ac69e1",
   "metadata": {},
   "outputs": [
    {
     "ename": "NameError",
     "evalue": "name 'result' is not defined",
     "output_type": "error",
     "traceback": [
      "\u001b[1;31m---------------------------------------------------------------------------\u001b[0m",
      "\u001b[1;31mNameError\u001b[0m                                 Traceback (most recent call last)",
      "Cell \u001b[1;32mIn[18], line 2\u001b[0m\n\u001b[0;32m      1\u001b[0m \u001b[38;5;28;01mfrom\u001b[39;00m \u001b[38;5;21;01mIPython\u001b[39;00m\u001b[38;5;21;01m.\u001b[39;00m\u001b[38;5;21;01mdisplay\u001b[39;00m \u001b[38;5;28;01mimport\u001b[39;00m Markdown\n\u001b[1;32m----> 2\u001b[0m Markdown(\u001b[43mresult\u001b[49m)\n",
      "\u001b[1;31mNameError\u001b[0m: name 'result' is not defined"
     ]
    }
   ],
   "source": [
    "from IPython.display import Markdown\n",
    "Markdown(result)"
   ]
  },
  {
   "cell_type": "code",
   "execution_count": null,
   "id": "2c5cbda6",
   "metadata": {},
   "outputs": [],
   "source": []
  }
 ],
 "metadata": {
  "kernelspec": {
   "display_name": "Python 3",
   "language": "python",
   "name": "python3"
  },
  "language_info": {
   "codemirror_mode": {
    "name": "ipython",
    "version": 3
   },
   "file_extension": ".py",
   "mimetype": "text/x-python",
   "name": "python",
   "nbconvert_exporter": "python",
   "pygments_lexer": "ipython3",
   "version": "3.11.0"
  }
 },
 "nbformat": 4,
 "nbformat_minor": 5
}
