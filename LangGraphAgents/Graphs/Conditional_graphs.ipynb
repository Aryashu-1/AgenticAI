{
 "cells": [
  {
   "cell_type": "code",
   "execution_count": 1,
   "id": "a666861b",
   "metadata": {},
   "outputs": [],
   "source": [
    "from typing import TypedDict,List\n",
    "from langgraph.graph import StateGraph, START,END"
   ]
  },
  {
   "cell_type": "code",
   "execution_count": 3,
   "id": "88452793",
   "metadata": {},
   "outputs": [],
   "source": [
    "class AgentState(TypedDict):\n",
    "   n1:int\n",
    "   n2:int\n",
    "   n3:int\n",
    "   n4:int\n",
    "   op1:str\n",
    "   op2:str\n",
    "   res1:str\n",
    "   res2:str"
   ]
  },
  {
   "cell_type": "code",
   "execution_count": 6,
   "id": "461d7f6a",
   "metadata": {},
   "outputs": [],
   "source": [
    "def decide_next_node1(state:AgentState)-> AgentState:\n",
    "  if state[\"op1\"] == \"+\":\n",
    "    return \"add1\"\n",
    "  if state[\"op1\"] == \"-\":\n",
    "    return \"sub1\"\n",
    "\n",
    "def decide_next_node2(state:AgentState)-> AgentState:\n",
    "  if state[\"op2\"] == \"+\":\n",
    "    return \"add2\"\n",
    "  if state[\"op2\"] == \"-\":\n",
    "    return \"sub2\" \n",
    "\n",
    "def add_one(state:AgentState)->AgentState:\n",
    "  \"\"\"This node adds n1 and n2\"\"\"\n",
    "  state['res1'] = f\"sum1 = {state['n1']+state['n2']}\"\n",
    "  return state\n",
    "\n",
    "def sub_one(state:AgentState)->AgentState:\n",
    "  \"\"\"This node subs n1 and n2\"\"\"\n",
    "  state['res1'] = f\"diff1 = {state['n1']-state['n2']}\"\n",
    "  return state\n",
    "\n",
    "def add_two(state:AgentState)->AgentState:\n",
    "  \"\"\"This node adds n3 and n4\"\"\"\n",
    "  state['res2'] = f\"sum2 = {state['n3']+state['n4']}\"\n",
    "  return state\n",
    "\n",
    "def sub_two(state:AgentState)->AgentState:\n",
    "  \"\"\"This node subss n3 and n4\"\"\"\n",
    "  state['res2'] = f\"diff2 = {state['n3']-state['n4']}\"\n",
    "  return state"
   ]
  },
  {
   "cell_type": "code",
   "execution_count": 8,
   "id": "9658aa08",
   "metadata": {},
   "outputs": [],
   "source": [
    "graph = StateGraph(AgentState)\n",
    "\n",
    "graph.add_node(\"r1\",lambda state:state)\n",
    "graph.add_node(\"add1\",add_one)\n",
    "graph.add_node(\"sub1\",sub_one)\n",
    "graph.add_node(\"r2\",lambda state:state)\n",
    "graph.add_node(\"add2\",add_two)\n",
    "graph.add_node(\"sub2\",sub_two)\n",
    "\n",
    "graph.add_edge(START,\"r1\")\n",
    "graph.add_conditional_edges(\n",
    "  \"r1\",\n",
    "  decide_next_node1,\n",
    "  {\n",
    "    \"add1\":\"add1\",\n",
    "    \"sub1\":\"sub1\"\n",
    "  }\n",
    ")\n",
    "\n",
    "graph.add_edge(\"add1\",\"r2\")\n",
    "graph.add_edge(\"sub1\",\"r2\")\n",
    "\n",
    "\n",
    "\n",
    "\n",
    "graph.add_conditional_edges(\n",
    "  \"r2\",\n",
    "  decide_next_node2,\n",
    "  {\n",
    "    \"add2\":\"add2\",\n",
    "    \"sub2\":\"sub2\"\n",
    "  }\n",
    ")\n",
    "\n",
    "graph.add_edge(\"add2\",END)\n",
    "graph.add_edge(\"sub2\",END)\n",
    "\n",
    "app = graph.compile()"
   ]
  },
  {
   "cell_type": "code",
   "execution_count": 10,
   "id": "b09f61ef",
   "metadata": {},
   "outputs": [
    {
     "data": {
      "image/png": "[encoded data removed]",
      "text/plain": [
       "<IPython.core.display.Image object>"
      ]
     },
     "metadata": {},
     "output_type": "display_data"
    }
   ],
   "source": [
    "from IPython.display import Image, display\n",
    "display(Image(app.get_graph().draw_mermaid_png()))"
   ]
  },
  {
   "cell_type": "code",
   "execution_count": 11,
   "id": "40c16cf2",
   "metadata": {},
   "outputs": [
    {
     "name": "stdout",
     "output_type": "stream",
     "text": [
      "{'n1': 10, 'n2': 15, 'n3': 15, 'n4': 10, 'op1': '-', 'op2': '+', 'res1': 'diff1 = -5', 'res2': 'sum2 = 25'}\n"
     ]
    }
   ],
   "source": [
    "print(app.invoke({\"n1\":10,\"n2\":15,\"n3\":15,\"n4\":10,\"op1\":\"-\",\"op2\":\"+\"}))"
   ]
  },
  {
   "cell_type": "code",
   "execution_count": null,
   "id": "a9831620",
   "metadata": {},
   "outputs": [],
   "source": []
  }
 ],
 "metadata": {
  "kernelspec": {
   "display_name": "Python 3",
   "language": "python",
   "name": "python3"
  },
  "language_info": {
   "codemirror_mode": {
    "name": "ipython",
    "version": 3
   },
   "file_extension": ".py",
   "mimetype": "text/x-python",
   "name": "python",
   "nbconvert_exporter": "python",
   "pygments_lexer": "ipython3",
   "version": "3.11.0"
  }
 },
 "nbformat": 4,
 "nbformat_minor": 5
}
